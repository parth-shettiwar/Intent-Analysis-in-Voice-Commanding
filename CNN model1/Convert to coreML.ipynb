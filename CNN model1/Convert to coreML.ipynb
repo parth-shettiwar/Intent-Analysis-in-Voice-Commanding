{
 "cells": [
  {
   "cell_type": "code",
   "execution_count": 2,
   "metadata": {},
   "outputs": [
    {
     "name": "stdout",
     "output_type": "stream",
     "text": [
      "WARNING:tensorflow:From C:\\Users\\t-kodasg\\Anaconda3\\envs\\coreml\\lib\\site-packages\\keras\\backend\\tensorflow_backend.py:517: The name tf.placeholder is deprecated. Please use tf.compat.v1.placeholder instead.\n",
      "\n"
     ]
    },
    {
     "name": "stderr",
     "output_type": "stream",
     "text": [
      "WARNING:tensorflow:From C:\\Users\\t-kodasg\\Anaconda3\\envs\\coreml\\lib\\site-packages\\keras\\backend\\tensorflow_backend.py:517: The name tf.placeholder is deprecated. Please use tf.compat.v1.placeholder instead.\n",
      "\n"
     ]
    },
    {
     "name": "stdout",
     "output_type": "stream",
     "text": [
      "WARNING:tensorflow:From C:\\Users\\t-kodasg\\Anaconda3\\envs\\coreml\\lib\\site-packages\\keras\\backend\\tensorflow_backend.py:4138: The name tf.random_uniform is deprecated. Please use tf.random.uniform instead.\n",
      "\n"
     ]
    },
    {
     "name": "stderr",
     "output_type": "stream",
     "text": [
      "WARNING:tensorflow:From C:\\Users\\t-kodasg\\Anaconda3\\envs\\coreml\\lib\\site-packages\\keras\\backend\\tensorflow_backend.py:4138: The name tf.random_uniform is deprecated. Please use tf.random.uniform instead.\n",
      "\n"
     ]
    },
    {
     "name": "stdout",
     "output_type": "stream",
     "text": [
      "WARNING:tensorflow:From C:\\Users\\t-kodasg\\Anaconda3\\envs\\coreml\\lib\\site-packages\\keras\\backend\\tensorflow_backend.py:3976: The name tf.nn.max_pool is deprecated. Please use tf.nn.max_pool2d instead.\n",
      "\n"
     ]
    },
    {
     "name": "stderr",
     "output_type": "stream",
     "text": [
      "WARNING:tensorflow:From C:\\Users\\t-kodasg\\Anaconda3\\envs\\coreml\\lib\\site-packages\\keras\\backend\\tensorflow_backend.py:3976: The name tf.nn.max_pool is deprecated. Please use tf.nn.max_pool2d instead.\n",
      "\n"
     ]
    },
    {
     "name": "stdout",
     "output_type": "stream",
     "text": [
      "WARNING:tensorflow:From C:\\Users\\t-kodasg\\Anaconda3\\envs\\coreml\\lib\\site-packages\\keras\\backend\\tensorflow_backend.py:174: The name tf.get_default_session is deprecated. Please use tf.compat.v1.get_default_session instead.\n",
      "\n"
     ]
    },
    {
     "name": "stderr",
     "output_type": "stream",
     "text": [
      "WARNING:tensorflow:From C:\\Users\\t-kodasg\\Anaconda3\\envs\\coreml\\lib\\site-packages\\keras\\backend\\tensorflow_backend.py:174: The name tf.get_default_session is deprecated. Please use tf.compat.v1.get_default_session instead.\n",
      "\n"
     ]
    },
    {
     "name": "stdout",
     "output_type": "stream",
     "text": [
      "WARNING:tensorflow:From C:\\Users\\t-kodasg\\Anaconda3\\envs\\coreml\\lib\\site-packages\\keras\\backend\\tensorflow_backend.py:181: The name tf.ConfigProto is deprecated. Please use tf.compat.v1.ConfigProto instead.\n",
      "\n"
     ]
    },
    {
     "name": "stderr",
     "output_type": "stream",
     "text": [
      "WARNING:tensorflow:From C:\\Users\\t-kodasg\\Anaconda3\\envs\\coreml\\lib\\site-packages\\keras\\backend\\tensorflow_backend.py:181: The name tf.ConfigProto is deprecated. Please use tf.compat.v1.ConfigProto instead.\n",
      "\n"
     ]
    },
    {
     "name": "stdout",
     "output_type": "stream",
     "text": [
      "WARNING:tensorflow:From C:\\Users\\t-kodasg\\Anaconda3\\envs\\coreml\\lib\\site-packages\\keras\\backend\\tensorflow_backend.py:186: The name tf.Session is deprecated. Please use tf.compat.v1.Session instead.\n",
      "\n"
     ]
    },
    {
     "name": "stderr",
     "output_type": "stream",
     "text": [
      "WARNING:tensorflow:From C:\\Users\\t-kodasg\\Anaconda3\\envs\\coreml\\lib\\site-packages\\keras\\backend\\tensorflow_backend.py:186: The name tf.Session is deprecated. Please use tf.compat.v1.Session instead.\n",
      "\n"
     ]
    },
    {
     "name": "stdout",
     "output_type": "stream",
     "text": [
      "WARNING:tensorflow:From C:\\Users\\t-kodasg\\Anaconda3\\envs\\coreml\\lib\\site-packages\\keras\\backend\\tensorflow_backend.py:190: The name tf.global_variables is deprecated. Please use tf.compat.v1.global_variables instead.\n",
      "\n"
     ]
    },
    {
     "name": "stderr",
     "output_type": "stream",
     "text": [
      "WARNING:tensorflow:From C:\\Users\\t-kodasg\\Anaconda3\\envs\\coreml\\lib\\site-packages\\keras\\backend\\tensorflow_backend.py:190: The name tf.global_variables is deprecated. Please use tf.compat.v1.global_variables instead.\n",
      "\n"
     ]
    },
    {
     "name": "stdout",
     "output_type": "stream",
     "text": [
      "WARNING:tensorflow:From C:\\Users\\t-kodasg\\Anaconda3\\envs\\coreml\\lib\\site-packages\\keras\\backend\\tensorflow_backend.py:199: The name tf.is_variable_initialized is deprecated. Please use tf.compat.v1.is_variable_initialized instead.\n",
      "\n"
     ]
    },
    {
     "name": "stderr",
     "output_type": "stream",
     "text": [
      "WARNING:tensorflow:From C:\\Users\\t-kodasg\\Anaconda3\\envs\\coreml\\lib\\site-packages\\keras\\backend\\tensorflow_backend.py:199: The name tf.is_variable_initialized is deprecated. Please use tf.compat.v1.is_variable_initialized instead.\n",
      "\n"
     ]
    },
    {
     "name": "stdout",
     "output_type": "stream",
     "text": [
      "WARNING:tensorflow:From C:\\Users\\t-kodasg\\Anaconda3\\envs\\coreml\\lib\\site-packages\\keras\\backend\\tensorflow_backend.py:206: The name tf.variables_initializer is deprecated. Please use tf.compat.v1.variables_initializer instead.\n",
      "\n"
     ]
    },
    {
     "name": "stderr",
     "output_type": "stream",
     "text": [
      "WARNING:tensorflow:From C:\\Users\\t-kodasg\\Anaconda3\\envs\\coreml\\lib\\site-packages\\keras\\backend\\tensorflow_backend.py:206: The name tf.variables_initializer is deprecated. Please use tf.compat.v1.variables_initializer instead.\n",
      "\n"
     ]
    },
    {
     "name": "stdout",
     "output_type": "stream",
     "text": [
      "Loaded model from disk\n"
     ]
    }
   ],
   "source": [
    "from keras.models import model_from_json\n",
    "# load json and create model\n",
    "json_file = open('model.json', 'r')\n",
    "loaded_model_json = json_file.read()\n",
    "json_file.close()\n",
    "loaded_model = model_from_json(loaded_model_json)\n",
    "# load weights into new model\n",
    "loaded_model.load_weights(\"model.h5\")\n",
    "print(\"Loaded model from disk\")"
   ]
  },
  {
   "cell_type": "code",
   "execution_count": 7,
   "metadata": {},
   "outputs": [
    {
     "name": "stdout",
     "output_type": "stream",
     "text": [
      "0 : input_2, <keras.engine.input_layer.InputLayer object at 0x00000169F701C1C8>\n",
      "1 : embedding_2, <keras.layers.embeddings.Embedding object at 0x00000169F701CA48>\n",
      "2 : embedding_2_permute_conv1d_3, <keras.layers.core.Permute object at 0x00000169F8353188>\n",
      "3 : conv1d_3, <keras.layers.convolutional.Conv1D object at 0x00000169F701CC48>\n",
      "4 : conv1d_3__activation__, <keras.layers.core.Activation object at 0x00000169F8353148>\n",
      "5 : conv1d_4, <keras.layers.convolutional.Conv1D object at 0x00000169F701CE08>\n",
      "6 : conv1d_4__activation__, <keras.layers.core.Activation object at 0x00000169F70CDCC8>\n",
      "7 : max_pooling1d_2, <keras.layers.pooling.MaxPooling1D object at 0x00000169F702D808>\n",
      "8 : max_pooling1d_2_permute_flatten_2, <keras.layers.core.Permute object at 0x00000169F8353748>\n",
      "9 : flatten_2, <keras.layers.core.Flatten object at 0x00000169ED22DA48>\n",
      "10 : dense_3, <keras.layers.core.Dense object at 0x00000169ED215748>\n",
      "11 : dense_3__activation__, <keras.layers.core.Activation object at 0x00000169F70CD3C8>\n",
      "12 : dense_4, <keras.layers.core.Dense object at 0x00000169F702DD08>\n",
      "13 : dense_4__activation__, <keras.layers.core.Activation object at 0x00000169F70153C8>\n",
      "\n",
      "\n",
      "Recommendation: This model has at least one multiarray input/output of type double.\n",
      "For large sized arrays, multiarrays of type float32 are more efficient.\n",
      "In future, float input/output multiarrays will be produced by default by the converter.\n",
      "Please use, either the flag 'use_float_arraytype' during the call to convert or\n",
      "the utility 'coremltools.utils.convert_double_to_float_multiarray_type(spec)', post-conversion.\n",
      "\n",
      "\n"
     ]
    }
   ],
   "source": [
    "import coremltools\n",
    "#output_labels = ['1','2','3','4','5','6','7','8','9','10','11','12','13','14','15','16','17','18','19','20','21','22','23','24','25','26']\n",
    "coreml_model = coremltools.converters.keras.convert(loaded_model)\n",
    "coreml_model.save('coreml_model.mlmodel')"
   ]
  },
  {
   "cell_type": "code",
   "execution_count": 2,
   "metadata": {},
   "outputs": [
    {
     "name": "stderr",
     "output_type": "stream",
     "text": [
      "WARNING:root:TensorFlow version 1.15.0 detected. Last version known to be fully compatible is 1.14.0 .\n"
     ]
    },
    {
     "name": "stdout",
     "output_type": "stream",
     "text": [
      "Quantizing layer embedding_2\n",
      "Quantizing layer conv1d_3\n",
      "Quantizing layer conv1d_4\n",
      "Quantizing layer dense_3\n",
      "Quantizing layer dense_4\n"
     ]
    }
   ],
   "source": [
    "import coremltools\n",
    "model_spec=coremltools.utils.load_spec('./coreml_model.mlmodel')\n",
    "model_fp16_spec=coremltools.utils.convert_neural_network_spec_weights_to_fp16(model_spec)\n",
    "coremltools.utils.save_spec(model_fp16_spec,'reduced_model.mlmodel')"
   ]
  },
  {
   "cell_type": "code",
   "execution_count": null,
   "metadata": {},
   "outputs": [],
   "source": []
  }
 ],
 "metadata": {
  "kernelspec": {
   "display_name": "Python 3",
   "language": "python",
   "name": "python3"
  },
  "language_info": {
   "codemirror_mode": {
    "name": "ipython",
    "version": 3
   },
   "file_extension": ".py",
   "mimetype": "text/x-python",
   "name": "python",
   "nbconvert_exporter": "python",
   "pygments_lexer": "ipython3",
   "version": "3.7.7"
  }
 },
 "nbformat": 4,
 "nbformat_minor": 4
}
